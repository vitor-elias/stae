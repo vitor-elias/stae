{
 "cells": [
  {
   "cell_type": "code",
   "execution_count": null,
   "id": "5c4e7941",
   "metadata": {},
   "outputs": [],
   "source": [
    "import pandas as pd\n",
    "import requests\n",
    "from bs4 import BeautifulSoup\n",
    "\n",
    "def get_price_info(dfcards):\n",
    "\n",
    "    price_list = []\n",
    "    change_list = []\n",
    "    sales_list = []\n",
    "\n",
    "    for game_id in dfcards[\"game_id\"]:\n",
    "\n",
    "        print(f\"Fetching data for game ID: {game_id}\")\n",
    "\n",
    "        change = None\n",
    "        sales_per_day = None\n",
    "\n",
    "        url = f\"https://www.pricecharting.com/game/{game_id}\"\n",
    "        headers = {\n",
    "            \"User-Agent\": \"Mozilla/5.0 (Windows NT 10.0; Win64; x64) \"\n",
    "                        \"AppleWebKit/537.36 (KHTML, like Gecko) \"\n",
    "                        \"Chrome/122.0.0.0 Safari/537.36\"\n",
    "        }\n",
    "        response = requests.get(url, headers=headers)\n",
    "\n",
    "        if response.status_code != 200:\n",
    "            print(f\"Failed to fetch {url}\")\n",
    "        \n",
    "        soup = BeautifulSoup(response.text, \"html.parser\")\n",
    "        \n",
    "        # Get price\n",
    "        price_tag = soup.find(\"span\", class_=\"price js-price\")\n",
    "        price = price_tag.text.strip()[1:] if price_tag else None\n",
    "\n",
    "        # Get change\n",
    "        change_container = soup.find(\"span\", class_=\"change\", title=True)\n",
    "        if change_container:\n",
    "            sign = '+' if '+' in change_container.text else '-' if '-' in change_container.text else ''\n",
    "            change_tag = change_container.find(\"span\", class_=\"js-price\")\n",
    "            change = sign + change_tag.text.strip()[1:] if change_tag else None\n",
    "        else:\n",
    "            change = None\n",
    "\n",
    "        # Get sales per day\n",
    "        sales_tag = None\n",
    "        td_tags = soup.find_all(\"td\", class_=\"js-show-tab\", attrs={\"data-show-tab\": \"completed-auctions-used\"})\n",
    "        for td in td_tags:\n",
    "            link = td.find(\"a\")\n",
    "            if link and \"sales per day\" in link.text:\n",
    "                sales_tag = link\n",
    "                break\n",
    "        sales_per_day = sales_tag.text.strip().split()[0] if sales_tag else 0\n",
    "\n",
    "        # Append the data to the lists\n",
    "        price_list.append(float(price) if price else None)\n",
    "        change_list.append(float(change) if change else None)\n",
    "        sales_list.append(float(sales_per_day))\n",
    "    \n",
    "    # Update dataframe with the new columns\n",
    "    dfcards[\"price\"] = price_list\n",
    "    dfcards[\"change\"] = change_list\n",
    "    dfcards[\"sales_per_day\"] = sales_list\n",
    "    return dfcards "
   ]
  },
  {
   "cell_type": "code",
   "execution_count": null,
   "id": "7ae28047",
   "metadata": {},
   "outputs": [],
   "source": [
    "def dfcards_from_csv(csv_file, skip_nan=True):\n",
    "\n",
    "    # Read the CSV file\n",
    "    df = pd.read_csv(csv_file, sep=';', header=0, encoding='utf-8')\n",
    "    df = df.loc[:, ~df.columns.str.contains('^Unnamed')]\n",
    "    \n",
    "    if skip_nan:\n",
    "        # Remove rows where either column contains NaN\n",
    "        df = df.dropna(subset=df.columns[:2])\n",
    "\n",
    "    return df\n",
    "\n",
    "def get_game_ids(dfcards_orig):\n",
    "\n",
    "    dfcards = dfcards_orig.copy()\n",
    "\n",
    "    card_names = dfcards.Card.tolist()\n",
    "    card_sets = dfcards.Set.tolist()\n",
    "\n",
    "    game_ids = []\n",
    "    for name, set_name in zip(card_names, card_sets):\n",
    "        # Format the set name (lowercase, replace spaces with hyphens)\n",
    "        formatted_set = f\"pokemon-{set_name.lower().replace(' ', '-')}\"\n",
    "        \n",
    "        # Extract number if it exists\n",
    "        if '#' in name:\n",
    "            name, number = name.split('#')\n",
    "            # Format card name (lowercase, trim spaces, replace spaces with hyphens)\n",
    "            formatted_name = name.lower().strip().replace(' ', '-')\n",
    "            # Remove any spaces from number\n",
    "            formatted_number = number.strip()\n",
    "            # Combine into pricecharting format\n",
    "            game_id = f\"{formatted_set}/{formatted_name}-{formatted_number}\"\n",
    "        else:\n",
    "            # Handle cases without number\n",
    "            formatted_name = name.lower().strip().replace(' ', '-')\n",
    "            game_id = f\"{formatted_set}/{formatted_name}\"\n",
    "            \n",
    "        game_ids.append(game_id)\n",
    "\n",
    "    dfcards['game_id'] = game_ids\n",
    "    \n",
    "    return dfcards"
   ]
  },
  {
   "cell_type": "code",
   "execution_count": null,
   "id": "3def8b96",
   "metadata": {},
   "outputs": [],
   "source": [
    "df_csv = dfcards_from_csv('PokemonTCG.csv', skip_nan=False)"
   ]
  },
  {
   "cell_type": "code",
   "execution_count": null,
   "id": "7345b576",
   "metadata": {},
   "outputs": [],
   "source": [
    "df_fetch = dfcards_from_csv('PokemonTCG.csv', skip_nan=True)"
   ]
  },
  {
   "cell_type": "code",
   "execution_count": null,
   "id": "c4ea0470",
   "metadata": {},
   "outputs": [],
   "source": [
    "df_fetch "
   ]
  },
  {
   "cell_type": "code",
   "execution_count": null,
   "id": "41f522b7",
   "metadata": {},
   "outputs": [],
   "source": [
    "df = get_price_info(get_game_ids(dfcards_from_csv('PokemonTCG.csv')))"
   ]
  },
  {
   "cell_type": "code",
   "execution_count": null,
   "id": "f6a6dea9",
   "metadata": {},
   "outputs": [],
   "source": [
    "pd.set_option('display.max_rows', 200)\n",
    "pd.set_option('display.max_columns', None)\n",
    "pd.set_option('display.width', None)\n",
    "\n",
    "df_final = df_csv.merge(df[['price','change','sales_per_day']], left_index=True, right_index=True, how='left')"
   ]
  },
  {
   "cell_type": "code",
   "execution_count": null,
   "id": "97dcb6df",
   "metadata": {},
   "outputs": [],
   "source": [
    "df_final.to_csv('PokemonTCG_final.csv', sep=';', index=False, encoding='utf-8')"
   ]
  },
  {
   "cell_type": "code",
   "execution_count": null,
   "id": "4acddb10",
   "metadata": {},
   "outputs": [],
   "source": [
    "print(df['price'].to_string(index=False))"
   ]
  }
 ],
 "metadata": {
  "kernelspec": {
   "display_name": "tsensors",
   "language": "python",
   "name": "python3"
  },
  "language_info": {
   "codemirror_mode": {
    "name": "ipython",
    "version": 3
   },
   "file_extension": ".py",
   "mimetype": "text/x-python",
   "name": "python",
   "nbconvert_exporter": "python",
   "pygments_lexer": "ipython3",
   "version": "3.10.13"
  }
 },
 "nbformat": 4,
 "nbformat_minor": 5
}
